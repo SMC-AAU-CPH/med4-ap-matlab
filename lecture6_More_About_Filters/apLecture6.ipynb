{
 "cells": [
  {
   "cell_type": "markdown",
   "metadata": {
    "id": "Vc9QxP9iqN2Q",
    "slideshow": {
     "slide_type": "slide"
    }
   },
   "source": [
    "## Lecture 6: More About Filters\n",
    "Audio Processing, MED4, Aalborg University, 2023\n",
    "\n",
    "Jesper Kjær Nielsen (jekjaer@gmail.com) and Cumhur Erkut (cer@create.aau.dk)"
   ]
  },
  {
   "cell_type": "markdown",
   "metadata": {
    "slideshow": {
     "slide_type": "skip"
    },
    "toc": true
   },
   "source": [
    "<h1>Table of Contents<span class=\"tocSkip\"></span></h1>\n",
    "<div class=\"toc\"><ul class=\"toc-item\"><li><span><a href=\"#A-generalised-phasor-and-correlation\" data-toc-modified-id=\"A-generalised-phasor-and-correlation-1\"><span class=\"toc-item-num\">1&nbsp;&nbsp;</span>A generalised phasor and correlation</a></span><ul class=\"toc-item\"><li><span><a href=\"#A-generalised-phasor\" data-toc-modified-id=\"A-generalised-phasor-1.1\"><span class=\"toc-item-num\">1.1&nbsp;&nbsp;</span>A generalised phasor</a></span><ul class=\"toc-item\"><li><span><a href=\"#Examples-of-$z^{-n}$-for-different-values-of-$z$\" data-toc-modified-id=\"Examples-of-$z^{-n}$-for-different-values-of-$z$-1.1.1\"><span class=\"toc-item-num\">1.1.1&nbsp;&nbsp;</span>Examples of $z^{-n}$ for different values of $z$</a></span></li></ul></li><li><span><a href=\"#Correlation\" data-toc-modified-id=\"Correlation-1.2\"><span class=\"toc-item-num\">1.2&nbsp;&nbsp;</span>Correlation</a></span><ul class=\"toc-item\"><li><span><a href=\"#Example:-correlation-of-two-simple-signals\" data-toc-modified-id=\"Example:-correlation-of-two-simple-signals-1.2.1\"><span class=\"toc-item-num\">1.2.1&nbsp;&nbsp;</span>Example: correlation of two simple signals</a></span></li><li><span><a href=\"#Example:-correlation-of-a-signal-with-a-phasor\" data-toc-modified-id=\"Example:-correlation-of-a-signal-with-a-phasor-1.2.2\"><span class=\"toc-item-num\">1.2.2&nbsp;&nbsp;</span>Example: correlation of a signal with a phasor</a></span></li></ul></li><li><span><a href=\"#Summary\" data-toc-modified-id=\"Summary-1.3\"><span class=\"toc-item-num\">1.3&nbsp;&nbsp;</span>Summary</a></span></li><li><span><a href=\"#Active-5-minutes-break\" data-toc-modified-id=\"Active-5-minutes-break-1.4\"><span class=\"toc-item-num\">1.4&nbsp;&nbsp;</span>Active 5 minutes break</a></span></li></ul></li><li><span><a href=\"#The-Z-transform\" data-toc-modified-id=\"The-Z-transform-2\"><span class=\"toc-item-num\">2&nbsp;&nbsp;</span>The Z-transform</a></span><ul class=\"toc-item\"><li><span><a href=\"#The-definition-of-the-Z-transform\" data-toc-modified-id=\"The-definition-of-the-Z-transform-2.1\"><span class=\"toc-item-num\">2.1&nbsp;&nbsp;</span>The definition of the Z-transform</a></span><ul class=\"toc-item\"><li><span><a href=\"#Example:-Z-transform-of-an-impulse\" data-toc-modified-id=\"Example:-Z-transform-of-an-impulse-2.1.1\"><span class=\"toc-item-num\">2.1.1&nbsp;&nbsp;</span>Example: Z-transform of an impulse</a></span></li><li><span><a href=\"#Example:-Z-transform-of-a-delay\" data-toc-modified-id=\"Example:-Z-transform-of-a-delay-2.1.2\"><span class=\"toc-item-num\">2.1.2&nbsp;&nbsp;</span>Example: Z-transform of a delay</a></span></li><li><span><a href=\"#Example:-Z-transform-of-a-feedforward-comb-filter\" data-toc-modified-id=\"Example:-Z-transform-of-a-feedforward-comb-filter-2.1.3\"><span class=\"toc-item-num\">2.1.3&nbsp;&nbsp;</span>Example: Z-transform of a feedforward comb-filter</a></span></li></ul></li><li><span><a href=\"#The-transfer-function\" data-toc-modified-id=\"The-transfer-function-2.2\"><span class=\"toc-item-num\">2.2&nbsp;&nbsp;</span>The transfer function</a></span><ul class=\"toc-item\"><li><span><a href=\"#Example:-Z-transform-of-a-feedback-comb-filter\" data-toc-modified-id=\"Example:-Z-transform-of-a-feedback-comb-filter-2.2.1\"><span class=\"toc-item-num\">2.2.1&nbsp;&nbsp;</span>Example: Z-transform of a feedback comb-filter</a></span></li><li><span><a href=\"#Filtering-and-the-Z-transform\" data-toc-modified-id=\"Filtering-and-the-Z-transform-2.2.2\"><span class=\"toc-item-num\">2.2.2&nbsp;&nbsp;</span>Filtering and the Z-transform</a></span></li></ul></li><li><span><a href=\"#Summary\" data-toc-modified-id=\"Summary-2.3\"><span class=\"toc-item-num\">2.3&nbsp;&nbsp;</span>Summary</a></span></li></ul></li><li><span><a href=\"#Poles-and-zeros\" data-toc-modified-id=\"Poles-and-zeros-3\"><span class=\"toc-item-num\">3&nbsp;&nbsp;</span>Poles and zeros</a></span><ul class=\"toc-item\"><li><span><a href=\"#Poles-and-zeros\" data-toc-modified-id=\"Poles-and-zeros-3.1\"><span class=\"toc-item-num\">3.1&nbsp;&nbsp;</span>Poles and zeros</a></span><ul class=\"toc-item\"><li><span><a href=\"#Pole-zero-map\" data-toc-modified-id=\"Pole-zero-map-3.1.1\"><span class=\"toc-item-num\">3.1.1&nbsp;&nbsp;</span>Pole-zero map</a></span></li><li><span><a href=\"#Filter-stability\" data-toc-modified-id=\"Filter-stability-3.1.2\"><span class=\"toc-item-num\">3.1.2&nbsp;&nbsp;</span>Filter stability</a></span></li></ul></li><li><span><a href=\"#Summary\" data-toc-modified-id=\"Summary-3.2\"><span class=\"toc-item-num\">3.2&nbsp;&nbsp;</span>Summary</a></span></li><li><span><a href=\"#Active-5-minutes-break\" data-toc-modified-id=\"Active-5-minutes-break-3.3\"><span class=\"toc-item-num\">3.3&nbsp;&nbsp;</span>Active 5 minutes break</a></span></li></ul></li><li><span><a href=\"#Filter-properties-and-types\" data-toc-modified-id=\"Filter-properties-and-types-4\"><span class=\"toc-item-num\">4&nbsp;&nbsp;</span>Filter properties and types</a></span><ul class=\"toc-item\"><li><span><a href=\"#Linearity-of-filters\" data-toc-modified-id=\"Linearity-of-filters-4.1\"><span class=\"toc-item-num\">4.1&nbsp;&nbsp;</span>Linearity of filters</a></span><ul class=\"toc-item\"><li><span><a href=\"#Homogenity\" data-toc-modified-id=\"Homogenity-4.1.1\"><span class=\"toc-item-num\">4.1.1&nbsp;&nbsp;</span>Homogenity</a></span></li><li><span><a href=\"#Additivity\" data-toc-modified-id=\"Additivity-4.1.2\"><span class=\"toc-item-num\">4.1.2&nbsp;&nbsp;</span>Additivity</a></span></li></ul></li><li><span><a href=\"#Filters-in-series\" data-toc-modified-id=\"Filters-in-series-4.2\"><span class=\"toc-item-num\">4.2&nbsp;&nbsp;</span>Filters in series</a></span></li><li><span><a href=\"#Filters-in-parallel\" data-toc-modified-id=\"Filters-in-parallel-4.3\"><span class=\"toc-item-num\">4.3&nbsp;&nbsp;</span>Filters in parallel</a></span></li><li><span><a href=\"#Basic-filter-types\" data-toc-modified-id=\"Basic-filter-types-4.4\"><span class=\"toc-item-num\">4.4&nbsp;&nbsp;</span>Basic filter types</a></span></li><li><span><a href=\"#Summary\" data-toc-modified-id=\"Summary-4.5\"><span class=\"toc-item-num\">4.5&nbsp;&nbsp;</span>Summary</a></span></li></ul></li></ul></div>"
   ]
  },
  {
   "cell_type": "markdown",
   "metadata": {
    "id": "_aePs2tXqN2V",
    "slideshow": {
     "slide_type": "slide"
    }
   },
   "source": [
    "## A generalised phasor and correlation\n",
    "In this part, you will learn\n",
    "- the behaviour of the signal (a generalised phasor)\n",
    "$$\n",
    "    z^{n} = r^{n}\\mathrm{e}^{j\\omega n}\n",
    "$$\n",
    "- what correlation is\n",
    "- how the simililarity between signals can be measured using correlation\n"
   ]
  },
  {
   "cell_type": "markdown",
   "metadata": {
    "id": "HtysLIuhqN2V",
    "slideshow": {
     "slide_type": "subslide"
    }
   },
   "source": [
    "### A generalised phasor\n",
    "In the first lecture, we saw that a **complex-number** $z$ can be written as\n",
    "$$\n",
    "    z = a+jb = r\\mathrm{e}^{j\\omega}\n",
    "$$\n",
    "where $a$, $b$, $r$, and $\\omega$ are the **real part**, the **imaginary part**, the **magnitude**, and the **phase** of $z$.\n",
    "\n",
    "<center>\n",
    "<img src=\"https://github.com/SMC-AAU-CPH/med4-ap-jupyter/blob/main/lecture6_More_About_Filters/figures/ap1ComplexPlaneSketchB.png?raw=1\" alt=\"Complex plane\" width=\"80%\"/>\n",
    "</center>"
   ]
  },
  {
   "cell_type": "markdown",
   "metadata": {
    "id": "LhUlZfKiqN2W",
    "slideshow": {
     "slide_type": "subslide"
    }
   },
   "source": [
    "A very important signal is a complex number raised to **minus** the sampling index, i.e., \n",
    "$$\n",
    "    z^{-n} = \\left(r\\mathrm{e}^{j\\omega}\\right)^{-n} = r^{-n}\\mathrm{e}^{-j\\omega n}\n",
    "$$\n",
    "which simplifies to a **phasor** for $r=1$. Thus, we can refer to $z^{-n}$ as a **generalised phasor**.\n",
    "\n",
    "From Euler's formula, we can also have\n",
    "\\begin{align}\n",
    "    z^{-n} &= r^{-n}\\left[\\cos(\\omega n)-j\\sin(\\omega n)\\right]\\\\\n",
    "    &= r^{-n}\\cos(\\omega n)-jr^{n}\\sin(\\omega n)\\ .\n",
    "\\end{align}"
   ]
  },
  {
   "cell_type": "markdown",
   "metadata": {
    "id": "rngNBPg7qN2W",
    "slideshow": {
     "slide_type": "subslide"
    }
   },
   "source": [
    "#### Examples of $z^{-n}$ for different values of $z$\n",
    "Recall thath $z^{-n}$ is defined as\n",
    "$$\n",
    "    z^{-n} = r^{-n}\\mathrm{e}^{-j\\omega n}\\ .\n",
    "$$\n",
    "\n",
    "Thus, $z^{-n}$ is a product of the two signals $r^{-n}$ and $\\mathrm{e}^{-j\\omega n}$ where the latter can also be written as (from Euler's formula)\n",
    "$$\n",
    "    \\mathrm{e}^{-j\\omega n} = \\cos(\\omega n)-j\\sin(\\omega n)\\ .\n",
    "$$\n",
    "\n",
    "Let us see how these two signals behave for different values of $r$ and $\\omega$."
   ]
  },
  {
   "cell_type": "code",
   "execution_count": 11,
   "metadata": {
    "id": "V4T7hm9YqN2W",
    "outputId": "a386c869-622f-40c3-df59-b57a83880749",
    "slideshow": {
     "slide_type": "subslide"
    }
   },
   "outputs": [
    {
     "data": {
      "image/png": "[encoded data removed]",
      "text/plain": [
       "<IPython.core.display.Image object>"
      ]
     },
     "metadata": {},
     "output_type": "display_data"
    }
   ],
   "source": [
    "nData = 50;\n",
    "samplingIndices = 0:nData-1;\n",
    "magnitude = 0.9; % any nonnegative number\n",
    "plot(samplingIndices, magnitude.^samplingIndices); grid on;\n",
    "xlabel('n');ylabel('r^{-n}')\n"
   ]
  },
  {
   "cell_type": "code",
   "execution_count": 28,
   "metadata": {
    "id": "BiwBajoXqN2X",
    "outputId": "a4c5fa8b-cd1b-4888-e071-e7abf8a94e08",
    "slideshow": {
     "slide_type": "subslide"
    }
   },
   "outputs": [
    {
     "data": {
      "image/png": "[encoded data removed]",
      "text/plain": [
       "<IPython.core.display.Image object>"
      ]
     },
     "metadata": {},
     "output_type": "display_data"
    }
   ],
   "source": [
    "digitalFreq = 2*pi*1/18; % radians/sample\n",
    "phasor = exp(-j*digitalFreq*samplingIndices);\n",
    "plot(samplingIndices,real(phasor),'k');grid on; hold on\n",
    "plot(samplingIndices,imag(phasor),'r');hold off\n",
    "legend('Real','Imag') \n",
    "% plt.plot(samplingIndices, np.imag(phasor), linewidth=2, label='$-\\sin(\\omega n)$)'), plt.grid(True)\n",
    "% plt.xlim((samplingIndices[0],samplingIndices[nData-1])), plt.xlabel('n'), plt.legend();"
   ]
  },
  {
   "cell_type": "code",
   "execution_count": 48,
   "metadata": {
    "id": "4uHHPz6pqN2Y",
    "outputId": "c30fdc58-3490-4506-9fc8-727f5b02ff72",
    "slideshow": {
     "slide_type": "subslide"
    }
   },
   "outputs": [
    {
     "data": {
      "image/png": "[encoded data removed]",
      "text/plain": [
       "<IPython.core.display.Image object>"
      ]
     },
     "metadata": {},
     "output_type": "display_data"
    }
   ],
   "source": [
    "magnitude = 0.95; % any nonnegative number\n",
    "digitalFreq = -30*pi/180 ; % radians/sample\n",
    "complexNumber = magnitude*exp(-j*digitalFreq); \n",
    "subplot(211);zplane(0,1); hold on;\n",
    "plot(magnitude*cos(digitalFreq),magnitude*sin(digitalFreq),'rx')\n",
    "title(\"Generalized Phasor and Unit Circle\")\n",
    "%% Gen Phasor in time\n",
    "GenPhasor = magnitude.^samplingIndices.*exp(-j*digitalFreq*samplingIndices);\n",
    "subplot(212)\n",
    "plot(samplingIndices,real(GenPhasor),'k');hold on\n",
    "plot(samplingIndices,imag(GenPhasor),'r');hold on\n",
    "\n",
    "\n"
   ]
  },
  {
   "cell_type": "markdown",
   "metadata": {
    "id": "YpRkoMTxqN2Z",
    "slideshow": {
     "slide_type": "subslide"
    }
   },
   "source": [
    "### Correlation\n",
    "How do you rank the signals in terms of similarity to $x_n$?\n",
    "<center>\n",
    "<img src=\"https://github.com/SMC-AAU-CPH/med4-ap-jupyter/blob/main/lecture6_More_About_Filters/figures/ap6CorrelatedSignals.png?raw=1\" alt=\"Correlated signals\" width=\"80%\"/>\n",
    "</center>"
   ]
  },
  {
   "cell_type": "markdown",
   "metadata": {
    "id": "duIKNuSOqN2Z",
    "slideshow": {
     "slide_type": "subslide"
    }
   },
   "source": [
    "We can compute the correlation between two signals $x_n$ and $y_n$ as\n",
    "$$\n",
    "    c_m = \\sum_{n=-\\infty}^\\infty x_ny_{n+m}\\ .\n",
    "$$\n",
    "This is called the **cross-correlation function** and useful in many audio applications such as\n",
    "- time-difference of arrival (TDOA) estimation (to estimate the direction of a source using a microphone array)\n",
    "- **interpretation** of the Z-transform and Fourier transform (lecture 7)"
   ]
  },
  {
   "cell_type": "markdown",
   "metadata": {
    "id": "tjmnYxZNqN2Z",
    "slideshow": {
     "slide_type": "subslide"
    }
   },
   "source": [
    "An important special case of the cross-correlation function is for zero lag (i.e., $m=0$) where we obtain\n",
    "$$\n",
    "    c_0 = \\sum_{n=-\\infty}^\\infty x_ny_{n}\\ .\n",
    "$$\n",
    "Thus, we here **multiply** two functions and then **sum** the computed product."
   ]
  },
  {
   "cell_type": "markdown",
   "metadata": {
    "id": "XdHJRXLbqN2Z",
    "slideshow": {
     "slide_type": "subslide"
    }
   },
   "source": [
    "#### Example: correlation of two simple signals\n",
    "Consider the two signals\n",
    "\\begin{align}\n",
    "    x_n &= 1\\delta_n -2\\delta_{n-1}+0.5\\delta_{n-2}-1\\delta_{n-3}\\\\\n",
    "    y_n &= 1\n",
    "\\end{align}\n",
    "where $\\delta_n$ is our well-known **impulse** which is zero for all $n$ except for $n=0$ where it is 1.\n",
    "<center>\n",
    "<img src=\"https://github.com/SMC-AAU-CPH/med4-ap-jupyter/blob/main/lecture6_More_About_Filters/figures/ap6CorrelationExample.png?raw=1\" alt=\"Example of correlation\" width=\"80%\"/>\n",
    "</center>"
   ]
  },
  {
   "cell_type": "markdown",
   "metadata": {
    "id": "fBW2lT8WqN2a",
    "slideshow": {
     "slide_type": "subslide"
    }
   },
   "source": [
    "To compute the correlation $c_0$ between these two signals, we first compute their product which is\n",
    "$$\n",
    "    x_ny_n = 1\\delta_n -2\\delta_{n-1}+0.5\\delta_{n-2}-1\\delta_{n-3}\\ .\n",
    "$$\n",
    "\n",
    "Finally, we sum the product of these two signals and obtain\n",
    "$$\n",
    "    c_0 = \\sum_{n=-\\infty}^\\infty x_ny_{n} = \\sum_{n=0}^3 x_ny_{n} = -1.5\\ .\n",
    "$$"
   ]
  },
  {
   "cell_type": "markdown",
   "metadata": {
    "id": "2BiQ3x7gqN2a",
    "slideshow": {
     "slide_type": "subslide"
    }
   },
   "source": [
    "#### Example: correlation of a signal with a phasor\n",
    "Let us consider the phasor\n",
    "$$\n",
    "    f_n = \\mathrm{e}^{-j\\omega n}\n",
    "$$\n",
    "and correlate that with a signal $x_n$. The cross-correlation $c_0$ is now\n",
    "$$\n",
    "    c_0 = \\sum_{n=-\\infty}^\\infty x_n f_n = \\sum_{n=-\\infty}^\\infty x_n \\mathrm{e}^{-j\\omega n}\\ .\n",
    "$$\n",
    "\n",
    "When viewed as a **function of $\\omega$**, this correlation is typically denoted $c_0 = H(\\omega)$ and called the **discrete-time Fourier transform** (DTFT) which we will talk much more about in lecture 7."
   ]
  },
  {
   "cell_type": "markdown",
   "metadata": {
    "id": "cnf9FHGeqN2a",
    "slideshow": {
     "slide_type": "subslide"
    }
   },
   "source": [
    "Consider the case where the signal is a real-valued sinusoid given by\n",
    "$$\n",
    "    x_n = \\cos(\\omega_0 n)\n",
    "$$\n",
    "for $n=0,1,2,\\ldots, N-1$.\n",
    "\n",
    "We wish to compute the correlation $c_0 = H(\\omega)$ for different values of $\\omega$."
   ]
  },
  {
   "cell_type": "code",
   "execution_count": 18,
   "metadata": {
    "id": "xHWfOLSJqN2a",
    "slideshow": {
     "slide_type": "subslide"
    }
   },
   "outputs": [],
   "source": [
    "%matplotlib inline\n",
    "import numpy as np\n",
    "import matplotlib.pyplot as plt\n",
    "\n",
    "nData = 100\n",
    "samplingIndices = np.arange(nData)\n",
    "signalFreq = 2*np.pi*10/nData # radians/sample\n",
    "signal = np.cos(signalFreq*samplingIndices)"
   ]
  },
  {
   "cell_type": "code",
   "execution_count": 19,
   "metadata": {
    "id": "oOE1HBZ_qN2b",
    "slideshow": {
     "slide_type": "subslide"
    }
   },
   "outputs": [],
   "source": [
    "freqGrid = 2*np.pi*np.arange(nData)/nData\n",
    "correlation = np.zeros(nData)+1j*np.zeros(nData)\n",
    "for ii in np.arange(nData):\n",
    "    phasor = np.exp(-1j*freqGrid[ii]*samplingIndices)\n",
    "    correlation[ii] = np.sum(signal*phasor)"
   ]
  },
  {
   "cell_type": "code",
   "execution_count": 22,
   "metadata": {
    "id": "jF9WbvcSqN2b",
    "outputId": "8cf1c937-c67f-4783-fd29-1d8a951c90f8",
    "slideshow": {
     "slide_type": "subslide"
    }
   },
   "outputs": [
    {
     "data": {
      "image/png": "[encoded data removed]",
      "text/plain": [
       "<Figure size 720x432 with 1 Axes>"
      ]
     },
     "metadata": {
      "needs_background": "light"
     },
     "output_type": "display_data"
    }
   ],
   "source": [
    "plt.figure(figsize=(10,6))\n",
    "plt.plot(freqGrid, np.abs(correlation), label='$|H(\\omega)|$')\n",
    "plt.plot(np.array([signalFreq,signalFreq]),np.array([0,nData/2]), '--', label='$\\omega_0$')\n",
    "plt.grid(True), plt.xlabel('$\\omega$'), plt.ylabel('$|H(\\omega)|$')\n",
    "plt.xlim((0,np.pi)), plt.legend();"
   ]
  },
  {
   "cell_type": "markdown",
   "metadata": {
    "id": "Yyz0JB6AqN2c",
    "slideshow": {
     "slide_type": "subslide"
    }
   },
   "source": [
    "### Summary\n",
    "1. We have looked at the generalised phasor\n",
    "$$\n",
    "    z^{-n} = r^{-n}\\mathrm{e}^{-j\\omega n}\n",
    "$$\n",
    "which is a product of two function\n",
    " 1. $r^{-n}$: is either exponentially decaying or increasing in $n$\n",
    " 2. $\\mathrm{e}^{-j\\omega n}$ is a phasor\n",
    "2. We can compute the correlation between two signals as\n",
    "$$\n",
    "    c_0 = \\sum_{n=-\\infty}^\\infty x_ny_{n}\\ .\n",
    "$$\n",
    "The scalar $c_0$ will measure how simililar these two signals are."
   ]
  },
  {
   "cell_type": "markdown",
   "metadata": {
    "id": "0zY-rmTjqN2c",
    "slideshow": {
     "slide_type": "subslide"
    }
   },
   "source": [
    "### Exit question\n",
    "Consider a the simple filter\n",
    "$$\n",
    "    y_n = x_n + ay_{n-1}\\ .\n",
    "$$\n",
    "1. Is this a feedforward or a feedback filter?\n",
    "2. Sketch this filter using a multiplication, delay, and summation blocks.\n",
    "3. Compute the impulse reponse of the filter for $a=0.5$ and $a=2$ by sending and impulse $\\delta_n$ through the filter. What do you see?"
   ]
  },
  {
   "cell_type": "markdown",
   "metadata": {
    "id": "GURgkiFeqN2c",
    "slideshow": {
     "slide_type": "slide"
    }
   },
   "source": [
    "## The Z-transform\n",
    "In this part, you will learn\n",
    "- how the Z-transform is defined\n",
    "- what a transfer function is\n",
    "- what the Z-transform is used for"
   ]
  },
  {
   "cell_type": "markdown",
   "metadata": {
    "id": "Ja8cLG4HqN2d",
    "slideshow": {
     "slide_type": "subslide"
    }
   },
   "source": [
    "### The definition of the Z-transform\n",
    "For a general signal $x_n$, the Z-transform is defined as\n",
    "$$\n",
    "    X(z) = \\mathcal{Z}\\left\\{x_n\\right\\} = \\sum_{n=-\\infty}^\\infty x_nz^{-n}\\ .\n",
    "$$\n",
    "where $z=r\\mathrm{e}^{j\\omega}$ .\n",
    "\n",
    "Note that\n",
    "- the Z-transform is essentially a correlation between the signal $x_n$ and our generalised phasor $z^{-n}$\n",
    "- the Z-transform is very useful for analysing filters!\n",
    "- if we set $r=1$, the Z-transform simplifies to the **discrete-time Fourier transform** (much more on this in lecture 7)"
   ]
  },
  {
   "cell_type": "markdown",
   "metadata": {
    "id": "4RNjFho5qN2d",
    "slideshow": {
     "slide_type": "subslide"
    }
   },
   "source": [
    "We can also write the Z-transform of $x_n$ as\n",
    "$$\n",
    "    X(z) = \\mathcal{Z}\\left\\{x_n\\right\\} = \\sum_{n=-\\infty}^\\infty x_nz^{-n} = \\sum_{n=-\\infty}^\\infty \\left[x_nr^{-n}\\right]\\mathrm{e}^{-j\\omega n}\\ .\n",
    "$$\n",
    "\n",
    "Thus, we can interpret the Z-transform as an operation doing two things:\n",
    "1. multiply the signal $x_n$ by an exponentially increasing ($0<r<1$), decreasing ($r>1$), or constant ($r=1$) function $r^{-n}$\n",
    "2. correlated the the weighted signal in 1. by phasors of different frequencies"
   ]
  },
  {
   "cell_type": "markdown",
   "metadata": {
    "id": "GZ7PHMp_qN2d",
    "slideshow": {
     "slide_type": "subslide"
    }
   },
   "source": [
    "#### Example: Z-transform of an impulse\n",
    "<center>\n",
    "<img src=\"https://github.com/SMC-AAU-CPH/med4-ap-jupyter/blob/main/lecture6_More_About_Filters/figures/ap5Impulse.png?raw=1\" alt=\"An impulse\" width=\"80%\"/>\n",
    "</center>\n",
    "An impulse is given by\n",
    "$$\n",
    "    \\delta_n = \\begin{cases}\n",
    "        1 & n=0\\\\\n",
    "        0 & \\text{otherwise}\n",
    "    \\end{cases}\\ .\n",
    "$$\n",
    "\n",
    "Therefore, the Z-transform of it is\n",
    "$$\n",
    "    \\mathcal{Z}\\left\\{\\delta_n\\right\\} = \\sum_{n=-\\infty}^{\\infty} \\delta_n z^{-n} = z^0 = 1\\ .\n",
    "$$"
   ]
  },
  {
   "cell_type": "markdown",
   "metadata": {
    "id": "_ZRw5kjzqN2d",
    "slideshow": {
     "slide_type": "subslide"
    }
   },
   "source": [
    "#### Example: Z-transform of a delay\n",
    "The Z-transform of a delayed signal $x_{n-D}$\n",
    "$$\n",
    "    \\mathcal{Z}\\left\\{x_{n-D}\\right\\} = \\sum_{n=-\\infty}^\\infty x_{n-D} z^{-n}\\ .\n",
    "$$\n",
    "We now replace $n$ by $m+D$, where $m$ is another sampling index, so that\n",
    "\\begin{align}\n",
    "    \\mathcal{Z}\\left\\{x_{n-D}\\right\\} &= \\sum_{m+D=-\\infty}^\\infty x_{m+D-D} z^{-(m+D)} = \\sum_{m=-\\infty}^\\infty x_{m} z^{-m} z^{-D} \\\\\n",
    "    &= z^{-D}\\sum_{m=-\\infty}^\\infty x_{m} z^{-m} = z^{-D}X(z)\\ .\n",
    "\\end{align}"
   ]
  },
  {
   "cell_type": "markdown",
   "metadata": {
    "id": "WwTCWJQEqN2d",
    "slideshow": {
     "slide_type": "subslide"
    }
   },
   "source": [
    "#### Example: Z-transform of a feedforward comb-filter\n",
    "Recall from lecture 5 that a **feedforward comb-filter** is given by\n",
    "$$\n",
    "    y_n = x_n+bx_{n-D}\\ .\n",
    "$$\n",
    "\n",
    "The Z-transform of this filter is\n",
    "\\begin{align}\n",
    "    Y(z) &= \\sum_{n=-\\infty}^\\infty y_nz^{-n} = \\sum_{n=-\\infty}^\\infty x_nz^{-n} + b \\sum_{n=-\\infty}^\\infty x_{n-D}z^{-n}\\\\\n",
    "    &= X(z) + b\\sum_{n=-\\infty}^\\infty x_{n}z^{-(n+D)} = X(z) + bX(z) z^{-D}\\\\\n",
    "    &= (1+bz^{-D})X(z)\\ .\n",
    "\\end{align}"
   ]
  },
  {
   "cell_type": "markdown",
   "metadata": {
    "id": "cvmcf4TKqN2d",
    "slideshow": {
     "slide_type": "subslide"
    }
   },
   "source": [
    "### The transfer function\n",
    "In the previous example, we saw that taking Z-transform of the output of a feedforward comb filter resulted in\n",
    "$$\n",
    "    Y(z) = (1+bz^{-D})X(z)\\ .\n",
    "$$\n",
    "\n",
    "In another example, we sat that the Z-transform of an impulse was\n",
    "$$\n",
    "    \\mathcal{Z}\\left\\{\\delta_n\\right\\} = 1\\ .\n",
    "$$"
   ]
  },
  {
   "cell_type": "markdown",
   "metadata": {
    "id": "bQVCigidqN2d",
    "slideshow": {
     "slide_type": "subslide"
    }
   },
   "source": [
    "Thus, if we set the input signal equal to an impulse (i.e., $x_n=\\delta_n$), we get \n",
    "$$\n",
    "    Y(z) = (1+bz^{-D})\\mathcal{Z}\\left\\{\\delta_n\\right\\} = 1+bz^{-D}\n",
    "$$\n",
    "which is called the **transfer function** and typically denoted $H(z)$."
   ]
  },
  {
   "cell_type": "markdown",
   "metadata": {
    "id": "2Kfm_cFAqN2e",
    "slideshow": {
     "slide_type": "subslide"
    }
   },
   "source": [
    "Since the filter output $y_n$ is the **impulse response** $h_n$ of the filter when $x_n=\\delta_n$, we also see that the transfer function must be the Z-transform of the impulse response, i.e.,\n",
    "$$\n",
    "    H(z) = \\sum_{n=-\\infty}^\\infty h_n z^{-n}\\ .\n",
    "$$\n",
    "\n",
    "Note that the transfer function reduces to the **frequency response** when we $r=1$."
   ]
  },
  {
   "cell_type": "markdown",
   "metadata": {
    "id": "75zRKEohqN2e",
    "slideshow": {
     "slide_type": "subslide"
    }
   },
   "source": [
    "#### Example: Z-transform of a feedback comb-filter\n",
    "Recall from lecture 5 that a **feedback comb-filter** is given by\n",
    "$$\n",
    "    y_n = x_n+ay_{n-D}\\ .\n",
    "$$\n",
    "\n",
    "The Z-transform of this filter is\n",
    "\\begin{align}\n",
    "    Y(z) &= \\sum_{n=-\\infty}^\\infty y_nz^{-n} = \\sum_{n=-\\infty}^\\infty x_nz^{-n} + a \\sum_{n=-\\infty}^\\infty y_{n-D}z^{-n}\\\\\n",
    "    &= X(z) + a\\sum_{n=-\\infty}^\\infty y_{n}z^{-(n+D)} = X(z) + aY(z) z^{-D}\\ .\n",
    "\\end{align}\n",
    "If we now isolate $Y(z)$, we obtain\n",
    "$$\n",
    "    Y(z) = \\frac{1}{1-az^{-D}}X(z) = H(z)X(z)\n",
    "$$\n",
    "where $H(z)$ is the **transfer function** of the filter."
   ]
  },
  {
   "cell_type": "markdown",
   "metadata": {
    "id": "0LPWNGIYqN2e",
    "slideshow": {
     "slide_type": "subslide"
    }
   },
   "source": [
    "#### Filtering and the Z-transform\n",
    "<center>\n",
    "<img src=\"https://github.com/SMC-AAU-CPH/med4-ap-jupyter/blob/main/lecture6_More_About_Filters/figures/xn_Filter_yn.png?raw=1\" alt=\"Filter block\" width=\"60%\"/>\n",
    "</center>\n",
    "\n",
    "Until now, we have represented the filtering operation using a difference equation, i.e., \n",
    "$$\n",
    "    y_n = \\sum_{m=0}^q b_m x_{n-m} + \\sum_{m=1}^p a_m y_{n-m}\n",
    "$$\n",
    "where $\\{a_m\\}_{m=1}^p$ and $\\{b_m\\}_{m=0}^q$ are the **filter coefficients**."
   ]
  },
  {
   "cell_type": "markdown",
   "metadata": {
    "id": "wfQemX7lqN2e",
    "slideshow": {
     "slide_type": "subslide"
    }
   },
   "source": [
    "<center>\n",
    "<img src=\"https://github.com/SMC-AAU-CPH/med4-ap-jupyter/blob/main/lecture6_More_About_Filters/figures/Xz_Hz_Yz.png?raw=1\" alt=\"Filter block z\" width=\"60%\"/>\n",
    "</center>\n",
    "\n",
    "Using the Z-transform, we can instead represent it as\n",
    "$$\n",
    "    Y(z) = H(z)X(z)\n",
    "$$\n",
    "where\n",
    "$$\n",
    "    H(z) = \\frac{B(z)}{A(z)} = \\frac{b_0+b_1z^{-1}+\\cdots+b_qz^{-q}}{1-a_1z^{-1}-\\cdots-a_pz^{-p}}\n",
    "$$\n",
    "is the **transfer function** of the filter."
   ]
  },
  {
   "cell_type": "markdown",
   "metadata": {
    "id": "gp1OdzLPqN2e",
    "slideshow": {
     "slide_type": "subslide"
    }
   },
   "source": [
    "The transfer function is useful for two things:\n",
    "1. **Stability**: does the filter output go to zero as $n$ increases\n",
    "2. **Frequency response:** how the filter modifies the frequency components in the input signal"
   ]
  },
  {
   "cell_type": "markdown",
   "metadata": {
    "id": "EU_evAPAqN2e",
    "slideshow": {
     "slide_type": "subslide"
    }
   },
   "source": [
    "### Summary\n",
    "1. The Z-transform is given by\n",
    "$$\n",
    "    X(z) = \\mathcal{Z}\\left\\{x_n\\right\\} = \\sum_{n=-\\infty}^\\infty x_nz^{-n} = \\sum_{n=-\\infty}^\\infty \\left[x_nr^{-n}\\right]\\mathrm{e}^{-j\\omega n}\\ .\n",
    "$$\n",
    "Thus, we can interpret the Z-transform as an operation doing two things:\n",
    " 1. multiply the signal $x_n$ by an exponentially increasing ($0<r<1$), decreasing ($r>1$), or constant ($r=1$) function $r^{-n}$\n",
    " 2. correlated the the weighted signal in 1. by phasors of different frequencies\n",
    "2. In the Z-domain, filtering can be written as multiplication, i.e.,\n",
    "$$\n",
    "    Y(z) = H(z)X(z)\n",
    "$$\n",
    "where $H(z)$ is the **transfer function**.\n",
    "3. The transfer function $H(z)$ is the Z-transform of the filter's impulse response $h_n$ and important for analysing the filter."
   ]
  },
  {
   "cell_type": "markdown",
   "metadata": {
    "id": "HFU3AFLxqN2f",
    "slideshow": {
     "slide_type": "slide"
    }
   },
   "source": [
    "## Poles and zeros\n",
    "In this part, you will learn\n",
    "- what roots and zeros are\n",
    "- how roots can say something about the stability of the filter"
   ]
  },
  {
   "cell_type": "markdown",
   "metadata": {
    "id": "fRqgdNY2qN2f",
    "slideshow": {
     "slide_type": "subslide"
    }
   },
   "source": [
    "Consider the simple **feedback** filter\n",
    "$$\n",
    "    y_n = x_n + ay_{n-1}\n",
    "$$\n",
    "which has the impulse response\n",
    "$$\n",
    "    h_n = \\begin{cases}\n",
    "        a^n & n\\geq0\\\\\n",
    "        0 & \\text{otherwise}\n",
    "    \\end{cases}\n",
    "$$\n",
    "and the Z-transform\n",
    "$$\n",
    "    H(z) = \\sum_{n=-\\infty}^\\infty h_nz^{-n} = \\sum_{n=0}^\\infty a^nz^{-n} = \\frac{1}{1-az^{-1}}\n",
    "$$\n",
    "where the last equality follows from the **geometric series**."
   ]
  },
  {
   "cell_type": "markdown",
   "metadata": {
    "id": "POLxyMBNqN2f",
    "slideshow": {
     "slide_type": "subslide"
    }
   },
   "source": [
    "Alternatively, and simpler, we can also derive the Z-transform directly from the difference equation as\n",
    "$$\n",
    "    \\mathcal{Z}\\{y_n\\} = Y(z) = X(z) + az^{-1}Y(z)\\ .\n",
    "$$\n",
    "\n",
    "If we now solve this for $Y(z)$, we obtain\n",
    "$$\n",
    "    Y(z) = \\frac{1}{1-az^{-1}}X(z)\n",
    "$$\n",
    "from which we see that\n",
    "$$\n",
    "    H(z) = \\frac{1}{1-az^{-1}}\\ .\n",
    "$$\n"
   ]
  },
  {
   "cell_type": "code",
   "execution_count": null,
   "metadata": {
    "id": "JWxvGdW6qN2f",
    "slideshow": {
     "slide_type": "subslide"
    }
   },
   "outputs": [],
   "source": [
    "%matplotlib inline\n",
    "import numpy as np\n",
    "import matplotlib.pyplot as plt\n",
    "from mpl_toolkits.mplot3d import Axes3D\n",
    "\n",
    "def computeAbsTransferFunction(filterCoef, xGrid, yGrid):\n",
    "    transferFunction = np.zeros((nGridPoints,nGridPoints))+1j*np.zeros((nGridPoints,nGridPoints))\n",
    "    for ii in np.arange(nGridPoints):\n",
    "        for jj in np.arange(nGridPoints):\n",
    "            z = xGrid[jj]+1j*yGrid[ii]\n",
    "            transferFunction[ii,jj] = z/(z-filterCoef)\n",
    "    absTransferFunction = np.abs(transferFunction)\n",
    "    maxAbsTransferFunction = np.max(absTransferFunction)\n",
    "    # limit the dynamic range\n",
    "    return np.clip(absTransferFunction,maxAbsTransferFunction/1e12,maxAbsTransferFunction)"
   ]
  },
  {
   "cell_type": "code",
   "execution_count": null,
   "metadata": {
    "id": "BdfyglSnqN2f",
    "slideshow": {
     "slide_type": "subslide"
    }
   },
   "outputs": [],
   "source": [
    "filterCoef = 1.\n",
    "nData = 25\n",
    "samplingIndices = np.arange(nData)\n",
    "impulseResponse = filterCoef**samplingIndices\n",
    "\n",
    "nGridPoints = 200\n",
    "xGrid = 3*np.arange(nGridPoints)/nGridPoints-1.5\n",
    "yGrid = xGrid\n",
    "absTransferFunction = computeAbsTransferFunction(filterCoef, xGrid, yGrid)\n",
    "\n",
    "unitCircle = np.exp(1j*2*np.pi*np.arange(nGridPoints)/nGridPoints)"
   ]
  },
  {
   "cell_type": "code",
   "execution_count": null,
   "metadata": {
    "id": "qBWB4vCkqN2f",
    "outputId": "edab8e30-7e01-436d-eabf-fa7ad51fd382",
    "slideshow": {
     "slide_type": "subslide"
    }
   },
   "outputs": [
    {
     "data": {
      "image/png": "[encoded data removed]",
      "text/plain": [
       "<Figure size 864x576 with 3 Axes>"
      ]
     },
     "metadata": {
      "needs_background": "light",
      "tags": []
     },
     "output_type": "display_data"
    }
   ],
   "source": [
    "plt.figure(figsize=(12,8))\n",
    "plt.subplot(2,1,1)\n",
    "plt.plot(samplingIndices, impulseResponse)\n",
    "plt.xlabel('$n$'), plt.ylabel('$h_n$'), plt.xlim((samplingIndices[0],samplingIndices[-1]))\n",
    "plt.subplot(2,1,2)\n",
    "plt.imshow(absTransferFunction, extent=[xGrid[0],xGrid[-1],yGrid[0],yGrid[-1]], aspect='equal',\\\n",
    "           vmin=np.min(absTransferFunction), vmax=np.max(absTransferFunction), cmap='terrain'), plt.colorbar()\n",
    "plt.plot(np.real(unitCircle),np.imag(unitCircle), 'r', linewidth=2, label='Unit circle')\n",
    "plt.xlabel('Real'), plt.ylabel('Imag'), plt.title('$|H(z)|$'), plt.legend();"
   ]
  },
  {
   "cell_type": "markdown",
   "metadata": {
    "id": "96JYCB9bqN2g",
    "slideshow": {
     "slide_type": "subslide"
    }
   },
   "source": [
    "### Poles and zeros\n",
    "We can write the transfer function $H(z)$ above as the ratio between two polynomials, i.e., \n",
    "$$\n",
    "    H(z) = \\frac{1}{1-az^{-1}} = \\frac{z}{z-a} = \\frac{B(z)}{A(z)}\\ .\n",
    "$$\n",
    "\n",
    "Note that\n",
    "- **zeros**: the roots of the equation $B(z) = 0$ are called **zeros**\n",
    "- **poles**: the roots of the equation $A(z) = 0$ are called **poles**\n",
    "\n",
    "For the above example, $z=0$ is, therefore, a zero, and $z=a$ is a pole."
   ]
  },
  {
   "cell_type": "markdown",
   "metadata": {
    "id": "HyB1VhGTqN2g",
    "slideshow": {
     "slide_type": "subslide"
    }
   },
   "source": [
    "As we saw previously, a general difference equation (i.e., filtering in the time-domain)\n",
    "$$\n",
    "    y_n = \\sum_{m=0}^q b_m x_{n-m} + \\sum_{m=1}^p a_m y_{n-m}\n",
    "$$\n",
    "can be written in the Z-domain as\n",
    "$$\n",
    "    Y(z) = H(z)X(z)\n",
    "$$\n",
    "where\n",
    "\\begin{align}\n",
    "    H(z) &= \\frac{B(z)}{A(z)} = \\frac{b_0+b_1z^{-1}+\\cdots+b_qz^{-q}}{1-a_1z^{-1}-\\cdots-a_pz^{-p}}\\\\\n",
    "    &= \\frac{z^{p}}{z^{q}}\\frac{b_0z^q+b_1z^{q-1}+\\cdots+b_q}{z^p-a_1z^{p-1}-\\cdots-a_p}\\ .\n",
    "\\end{align}"
   ]
  },
  {
   "cell_type": "markdown",
   "metadata": {
    "id": "1pF7UP_iqN2g",
    "slideshow": {
     "slide_type": "subslide"
    }
   },
   "source": [
    "To compute the **zeros** of $H(z)$, we have to solve\n",
    "$$\n",
    "    B(z) = 0\\ .\n",
    "$$\n",
    "\n",
    "To compute the **poles** of $H(z)$, we have to solve\n",
    "$$\n",
    "    A(z) = 0\\ .\n",
    "$$"
   ]
  },
  {
   "cell_type": "markdown",
   "metadata": {
    "id": "luvmSNZHqN2g",
    "slideshow": {
     "slide_type": "subslide"
    }
   },
   "source": [
    "#### Pole-zero map\n",
    "A pole-zero map is the complex plane containing\n",
    "- the unit circle\n",
    "- all zeros as a **circle** ('o')\n",
    "- all poles as a **cross** ('x')\n",
    "\n",
    "<center>\n",
    "<img src=\"https://github.com/SMC-AAU-CPH/med4-ap-jupyter/blob/main/lecture6_More_About_Filters/figures/ap6PzSketch.png?raw=1\" alt=\"Poles and zeros\" width=\"60%\"/>\n",
    "</center>"
   ]
  },
  {
   "cell_type": "markdown",
   "metadata": {
    "id": "S171M_sLqN2g",
    "slideshow": {
     "slide_type": "subslide"
    }
   },
   "source": [
    "#### Filter stability\n",
    "- **Time-domain**: A filter is said to be **stable** when its impulse response goes to zero for an increasing $n$\n",
    "- **Z-domain**: A filter is said to be **stable** if **all poles are within the unit circle**!\n",
    "\n",
    "Which one of these filters are stable?\n",
    "<center>\n",
    "<img src=\"https://github.com/SMC-AAU-CPH/med4-ap-jupyter/blob/main/lecture6_More_About_Filters/figures/ap6AreTheseStable.png?raw=1\" alt=\"Various pole zero plots\" width=\"70%\"/>\n",
    "</center>"
   ]
  },
  {
   "cell_type": "markdown",
   "metadata": {
    "id": "2daQILnBqN2g",
    "slideshow": {
     "slide_type": "subslide"
    }
   },
   "source": [
    "### Summary\n",
    "1. The transfer function of a filter can be written as\n",
    "$$\n",
    "    H(z) = \\frac{B(z)}{A(z)} = \\frac{b_0+b_1z^{-1}+\\cdots+b_qz^{-q}}{1-a_1z^{-1}-\\cdots-a_pz^{-p}}\\ .\n",
    "$$\n",
    "2. The solutions to the equation $B(z) = 0$ are called **zeros**\n",
    "3. The solutions to the equation $A(z) = 0$ are called **poles**\n",
    "4. A pole-zero plot shows graphically the position of the zeros and poles in the complex plane\n",
    "5. If all roots are inside the unit circle, the filter is stable"
   ]
  },
  {
   "cell_type": "markdown",
   "metadata": {
    "id": "2NXonN_gqN2g",
    "slideshow": {
     "slide_type": "subslide"
    }
   },
   "source": [
    "### Active 5 minutes break\n",
    "Consider the filter with difference equation\n",
    "$$\n",
    "    y_n = 2x_n-x_{n-1}  + 2y_{n-1}-2y_{n-2}\\ .\n",
    "$$\n",
    "1. Is the filter a feedforward or a feedback filter?\n",
    "2. Compute the transfer function $H(z)$ of the filter.\n",
    "3. Compute the poles and zeros and sketch them in a pole-zero plot. Is the filter stable?\n",
    "\n",
    "---\n",
    "\n",
    "Tip: A transfer function can be written as\n",
    "$$\n",
    "    H(z) = \\frac{B(z)}{A(z)} = \\frac{b_0+b_1z^{-1}+\\cdots+b_qz^{-q}}{1-a_1z^{-1}-\\cdots-a_pz^{-p}}\\ .\n",
    "$$"
   ]
  },
  {
   "cell_type": "markdown",
   "metadata": {
    "id": "f8tEhHFQqN2g",
    "slideshow": {
     "slide_type": "slide"
    }
   },
   "source": [
    "## Filter properties and types\n",
    "In this part, you will learn\n",
    "- how you can rearrange filters\n",
    "- the four basic filter types"
   ]
  },
  {
   "cell_type": "markdown",
   "metadata": {
    "id": "pMQ-uWw_qN2g",
    "slideshow": {
     "slide_type": "subslide"
    },
    "toc-hr-collapsed": true
   },
   "source": [
    "### Linearity of filters\n",
    "Filters are so-called **linear tranforms** since they satisfy the following two properties\n",
    "1. Homogenity\n",
    "2. Additivity"
   ]
  },
  {
   "cell_type": "markdown",
   "metadata": {
    "id": "fcgFtjNZqN2h",
    "slideshow": {
     "slide_type": "subslide"
    }
   },
   "source": [
    "#### Homogenity\n",
    "In a homogeneous system, we obtain the same result by scaling a signal before or after we filter it, i.e.,\n",
    "$$\n",
    "    (aX(z))H(z) = aY(z)\n",
    "$$\n",
    "if $Y(z) = X(z)H(z)$.\n",
    "<center>\n",
    "<img src=\"https://github.com/SMC-AAU-CPH/med4-ap-jupyter/blob/main/lecture6_More_About_Filters/figures/Xz_a_Hz_Yz_and_Xz_Hz_a_Yz.png?raw=1\" alt=\"Homogenity\" width=\"70%\"/>\n",
    "</center>"
   ]
  },
  {
   "cell_type": "markdown",
   "metadata": {
    "id": "ClKPwGXDqN2h",
    "slideshow": {
     "slide_type": "subslide"
    }
   },
   "source": [
    "#### Additivity\n",
    "In a additive system, we obtain the same filter output by adding two input signals before filtering or by summing the filtered versions of these two input signals, i.e.,\n",
    "\\begin{align}\n",
    "    Y(z) &= H(z) X(z) = H(z)(X_1(z)+X_2(z)) = H(z)X_1(z)+H(z)X_2(z)\n",
    "\\end{align}\n",
    "if $X(z) = X_1(z)+X_2(z)$.\n",
    "<center>\n",
    "<img src=\"https://github.com/SMC-AAU-CPH/med4-ap-jupyter/blob/main/lecture6_More_About_Filters/figures/additivity_of_signals.png?raw=1\" alt=\"Additivity\" width=\"50%\"/>\n",
    "</center>"
   ]
  },
  {
   "cell_type": "markdown",
   "metadata": {
    "id": "dAoauPFYqN2h",
    "slideshow": {
     "slide_type": "subslide"
    }
   },
   "source": [
    "### Filters in series\n",
    "The filter order does not matter since\n",
    "$$\n",
    "    Y(z) = F(z)G(z)X(z) = G(z)F(z)X(z)\\ .\n",
    "$$\n",
    "<center>\n",
    "<img src=\"https://github.com/SMC-AAU-CPH/med4-ap-jupyter/blob/main/lecture6_More_About_Filters/figures/equivalent_systems.png?raw=1\" alt=\"Filters in series\" width=\"60%\"/>\n",
    "</center>\n"
   ]
  },
  {
   "cell_type": "markdown",
   "metadata": {
    "id": "UWxpYlSYqN2h",
    "slideshow": {
     "slide_type": "subslide"
    }
   },
   "source": [
    "### Filters in parallel\n",
    "If we are filtering the same filter through two different **parallel** filters, we obtain\n",
    "$$\n",
    "    Y(z) = F(z)X(z) + G(z)X(z) = (G(z)+F(z))X(z)\\ .\n",
    "$$\n",
    "<center>\n",
    "<img src=\"https://github.com/SMC-AAU-CPH/med4-ap-jupyter/blob/main/lecture6_More_About_Filters/figures/filters_in_parallel.png?raw=1\" alt=\"Parallel filters\" width=\"60%\"/>\n",
    "</center>"
   ]
  },
  {
   "cell_type": "markdown",
   "metadata": {
    "id": "XnzfFhdeqN2h",
    "slideshow": {
     "slide_type": "subslide"
    }
   },
   "source": [
    "### Basic filter types\n",
    "There are **four** basic, ideal filter types\n",
    "1. **Lowpass filter**: only low frequencies will pass the filter\n",
    "2. **Highpass filter**: only high frequencies will pass the filter\n",
    "3. **Bandpass filter**: only frequencies in a certain band will pass the filter\n",
    "4. **Bandstop filter**: only frequenceies outside a certain bain will pass the filter (also sometimes called a **notch filter**)"
   ]
  },
  {
   "cell_type": "markdown",
   "metadata": {
    "id": "hlN3DHjQqN2h",
    "slideshow": {
     "slide_type": "subslide"
    }
   },
   "source": [
    "<center>\n",
    "<img src=\"https://github.com/SMC-AAU-CPH/med4-ap-jupyter/blob/main/lecture6_More_About_Filters/figures/pass_filters_together.png?raw=1\" alt=\"Filter types\" width=\"70%\"/>\n",
    "</center>"
   ]
  },
  {
   "cell_type": "markdown",
   "metadata": {
    "id": "O3om786hqN2h",
    "slideshow": {
     "slide_type": "subslide"
    }
   },
   "source": [
    "### Summary\n",
    "1. Filters are linear\n",
    "2. The order in which you filter things does not matter\n",
    "3. The Z-transform makes it easy to analyse what happens when we combine filters in different filters\n",
    "4. There are four main filter types which are the \n",
    " 1. **lowpass filter**\n",
    " 2. **highpass filter**\n",
    " 3. **bandpass filter**\n",
    " 4. **bandstop filter** (also sometimes called a **notch filter**)"
   ]
  }
 ],
 "metadata": {
  "celltoolbar": "Slideshow",
  "colab": {
   "name": "apLecture6.ipynb",
   "provenance": [],
   "toc_visible": true
  },
  "kernelspec": {
   "display_name": "Matlab (Connection)",
   "language": "matlab",
   "name": "matlab_connect"
  },
  "language_info": {
   "codemirror_mode": "octave",
   "file_extension": ".m",
   "help_links": [
    {
     "text": "MetaKernel Magics",
     "url": "https://metakernel.readthedocs.io/en/latest/source/README.html"
    }
   ],
   "mimetype": "text/x-octave",
   "name": "matlab",
   "version": "0.17.1"
  },
  "toc": {
   "base_numbering": 1,
   "nav_menu": {
    "height": "373px",
    "width": "480px"
   },
   "number_sections": true,
   "sideBar": true,
   "skip_h1_title": true,
   "title_cell": "Table of Contents",
   "title_sidebar": "Contents",
   "toc_cell": true,
   "toc_position": {},
   "toc_section_display": true,
   "toc_window_display": false
  }
 },
 "nbformat": 4,
 "nbformat_minor": 4
}
